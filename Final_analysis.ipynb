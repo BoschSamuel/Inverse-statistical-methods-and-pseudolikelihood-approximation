{
 "cells": [
  {
   "cell_type": "code",
   "execution_count": 1,
   "metadata": {},
   "outputs": [],
   "source": [
    "import numpy as np\n",
    "import matplotlib.pyplot as plt"
   ]
  },
  {
   "cell_type": "code",
   "execution_count": 2,
   "metadata": {},
   "outputs": [],
   "source": [
    "# Reading the \"C.txt\" file\n",
    "with open('C.txt') as f:\n",
    "    C_file = []\n",
    "    for line in f: # read rest of lines\n",
    "        C_file.append(float(line))\n",
    "    max_spin = int(C_file[0])\n",
    "    N = int(C_file[1])\n",
    "    del C_file[0]\n",
    "    del C_file[0]"
   ]
  },
  {
   "cell_type": "code",
   "execution_count": 3,
   "metadata": {},
   "outputs": [],
   "source": [
    "if (len(C_file) != N**2*(max_spin+1)**2):\n",
    "    print('C.txt size error')"
   ]
  },
  {
   "cell_type": "code",
   "execution_count": 4,
   "metadata": {},
   "outputs": [],
   "source": [
    "C = np.zeros((N,N,max_spin+1,max_spin+1))\n",
    "k = 0\n",
    "for i in range(max_spin+1):\n",
    "    for j in range(max_spin+1):\n",
    "        for ii in range(N):\n",
    "            for jj in range(N):\n",
    "                C[ii][jj][i][j] = C_file[k]\n",
    "                k += 1"
   ]
  },
  {
   "cell_type": "code",
   "execution_count": 5,
   "metadata": {},
   "outputs": [],
   "source": [
    "C_inv = np.zeros((N,N,max_spin+1,max_spin+1))"
   ]
  },
  {
   "cell_type": "code",
   "execution_count": 6,
   "metadata": {},
   "outputs": [],
   "source": [
    "for ii in range(N):\n",
    "    for jj in range(N):\n",
    "        C_inv[ii][jj] = - np.linalg.inv(C[ii][jj])"
   ]
  },
  {
   "cell_type": "code",
   "execution_count": 7,
   "metadata": {},
   "outputs": [],
   "source": [
    "J_derived = np.zeros((N*(max_spin+1),N*(max_spin+1)))"
   ]
  },
  {
   "cell_type": "code",
   "execution_count": 8,
   "metadata": {},
   "outputs": [],
   "source": [
    "for i in range(max_spin+1):\n",
    "    for j in range(max_spin+1):\n",
    "        for ii in range(N):\n",
    "            for jj in range(N):\n",
    "                J_derived[(max_spin+1)*ii+i][(max_spin+1)*jj+j] = C_inv[ii][jj][i][j]"
   ]
  },
  {
   "cell_type": "code",
   "execution_count": 9,
   "metadata": {},
   "outputs": [
    {
     "data": {
      "text/plain": [
       "array([[-1.02603071e+03, -1.02024631e+00, -1.02024642e+00, ...,\n",
       "        -2.80429780e+04, -5.01514423e+04, -1.30896894e+04],\n",
       "       [-1.02024631e+00, -9.90824562e+02, -1.02024544e+00, ...,\n",
       "         2.27893829e+05, -7.98243843e+04,  1.39755494e+05],\n",
       "       [-1.02024642e+00, -1.02024544e+00, -1.05576143e+03, ...,\n",
       "        -2.90680019e+05,  2.11162720e+04, -1.14605492e+05],\n",
       "       ...,\n",
       "       [-2.80429780e+04,  2.27893829e+05, -2.90680019e+05, ...,\n",
       "        -1.07571147e+03, -1.02024614e+00, -1.02024666e+00],\n",
       "       [-5.01514423e+04, -7.98243843e+04,  2.11162720e+04, ...,\n",
       "        -1.02024614e+00, -1.04453443e+03, -1.02024649e+00],\n",
       "       [-1.30896894e+04,  1.39755494e+05, -1.14605492e+05, ...,\n",
       "        -1.02024666e+00, -1.02024649e+00, -1.03761231e+03]])"
      ]
     },
     "execution_count": 9,
     "metadata": {},
     "output_type": "execute_result"
    }
   ],
   "source": [
    "J_derived"
   ]
  },
  {
   "cell_type": "code",
   "execution_count": 10,
   "metadata": {},
   "outputs": [],
   "source": [
    "g = open ( 'J.txt' , 'r')\n",
    "J = np.array([[float(num) for num in line.split(' ')] for line in g ])"
   ]
  },
  {
   "cell_type": "code",
   "execution_count": 11,
   "metadata": {},
   "outputs": [
    {
     "data": {
      "text/plain": [
       "array([[ 0.        ,  0.        ,  0.        , ...,  0.0028642 ,\n",
       "        -0.00015542, -0.03342935],\n",
       "       [ 0.        ,  0.        ,  0.        , ...,  0.00782785,\n",
       "        -0.00413392, -0.01225714],\n",
       "       [ 0.        ,  0.        ,  0.        , ...,  0.00523633,\n",
       "        -0.0217204 , -0.01646867],\n",
       "       ...,\n",
       "       [ 0.0028642 ,  0.00782785,  0.00523633, ...,  0.        ,\n",
       "         0.        ,  0.        ],\n",
       "       [-0.00015542, -0.00413392, -0.0217204 , ...,  0.        ,\n",
       "         0.        ,  0.        ],\n",
       "       [-0.03342935, -0.01225714, -0.01646867, ...,  0.        ,\n",
       "         0.        ,  0.        ]])"
      ]
     },
     "execution_count": 11,
     "metadata": {},
     "output_type": "execute_result"
    }
   ],
   "source": [
    "J"
   ]
  },
  {
   "cell_type": "code",
   "execution_count": null,
   "metadata": {},
   "outputs": [],
   "source": []
  }
 ],
 "metadata": {
  "kernelspec": {
   "display_name": "Python 3",
   "language": "python",
   "name": "python3"
  },
  "language_info": {
   "codemirror_mode": {
    "name": "ipython",
    "version": 3
   },
   "file_extension": ".py",
   "mimetype": "text/x-python",
   "name": "python",
   "nbconvert_exporter": "python",
   "pygments_lexer": "ipython3",
   "version": "3.6.4"
  }
 },
 "nbformat": 4,
 "nbformat_minor": 2
}
