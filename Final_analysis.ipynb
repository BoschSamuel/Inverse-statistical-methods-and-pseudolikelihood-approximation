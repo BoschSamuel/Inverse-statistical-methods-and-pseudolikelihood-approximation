{
 "cells": [
  {
   "cell_type": "code",
   "execution_count": 1,
   "metadata": {},
   "outputs": [],
   "source": [
    "import numpy as np\n",
    "import matplotlib.pyplot as plt"
   ]
  },
  {
   "cell_type": "code",
   "execution_count": 2,
   "metadata": {},
   "outputs": [],
   "source": [
    "# Reading the \"C.txt\" file\n",
    "with open('C.txt') as f:\n",
    "    C_file = []\n",
    "    for line in f: # read rest of lines\n",
    "        C_file.append(float(line))\n",
    "    max_spin = int(C_file[0])\n",
    "    N = int(C_file[1])\n",
    "    del C_file[0]\n",
    "    del C_file[0]"
   ]
  },
  {
   "cell_type": "code",
   "execution_count": 3,
   "metadata": {},
   "outputs": [],
   "source": [
    "if (len(C_file) != N**2*(max_spin+1)**2):\n",
    "    print('C.txt size error')"
   ]
  },
  {
   "cell_type": "code",
   "execution_count": 4,
   "metadata": {},
   "outputs": [],
   "source": [
    "C = np.zeros((N,N,max_spin+1,max_spin+1))\n",
    "k = 0\n",
    "for i in range(max_spin+1):\n",
    "    for j in range(max_spin+1):\n",
    "        for ii in range(N):\n",
    "            for jj in range(N):\n",
    "                C[ii][jj][i][j] = C_file[k]\n",
    "                k += 1"
   ]
  },
  {
   "cell_type": "code",
   "execution_count": 5,
   "metadata": {},
   "outputs": [],
   "source": [
    "C_inv = np.zeros((N,N,max_spin+1,max_spin+1))"
   ]
  },
  {
   "cell_type": "code",
   "execution_count": 6,
   "metadata": {},
   "outputs": [],
   "source": [
    "for ii in range(N):\n",
    "    for jj in range(N):\n",
    "        C_inv[ii][jj] = - np.linalg.inv(C[ii][jj])"
   ]
  },
  {
   "cell_type": "code",
   "execution_count": 7,
   "metadata": {},
   "outputs": [],
   "source": [
    "J_derived = np.zeros((N*(max_spin+1),N*(max_spin+1)))"
   ]
  },
  {
   "cell_type": "code",
   "execution_count": 8,
   "metadata": {},
   "outputs": [],
   "source": [
    "for i in range(max_spin+1):\n",
    "    for j in range(max_spin+1):\n",
    "        for ii in range(N):\n",
    "            for jj in range(N):\n",
    "                J_derived[(max_spin+1)*ii+i][(max_spin+1)*jj+j] = C_inv[ii][jj][i][j]"
   ]
  },
  {
   "cell_type": "code",
   "execution_count": 9,
   "metadata": {},
   "outputs": [],
   "source": [
    "g = open('J.txt' , 'r')\n",
    "J = np.array([[float(num) for num in line.split(' ')] for line in g ])"
   ]
  },
  {
   "cell_type": "code",
   "execution_count": 10,
   "metadata": {},
   "outputs": [
    {
     "data": {
      "text/plain": [
       "array([[-6.25002913e+06, -6.25000548e+06, -6.25001299e+06, ...,\n",
       "        -1.66947589e+10, -1.66951915e+10, -1.66950299e+10],\n",
       "       [-6.25000548e+06, -6.25002151e+06, -6.25000931e+06, ...,\n",
       "        -1.66947981e+10, -1.66952359e+10, -1.66950768e+10],\n",
       "       [-6.25001299e+06, -6.25000931e+06, -6.25003746e+06, ...,\n",
       "        -1.66948092e+10, -1.66952761e+10, -1.66951229e+10],\n",
       "       ...,\n",
       "       [-1.66947587e+10, -1.66947979e+10, -1.66948091e+10, ...,\n",
       "         8.33328923e+06,  8.33331212e+06,  8.33331036e+06],\n",
       "       [-1.66951913e+10, -1.66952358e+10, -1.66952759e+10, ...,\n",
       "         8.33331212e+06,  8.33329294e+06,  8.33331204e+06],\n",
       "       [-1.66950297e+10, -1.66950766e+10, -1.66951228e+10, ...,\n",
       "         8.33331036e+06,  8.33331204e+06,  8.33328957e+06]])"
      ]
     },
     "execution_count": 10,
     "metadata": {},
     "output_type": "execute_result"
    }
   ],
   "source": [
    "J_derived"
   ]
  },
  {
   "cell_type": "code",
   "execution_count": 11,
   "metadata": {},
   "outputs": [
    {
     "data": {
      "text/plain": [
       "array([[ 0.        ,  0.        ,  0.        , ...,  0.0028642 ,\n",
       "        -0.00015542, -0.03342935],\n",
       "       [ 0.        ,  0.        ,  0.        , ...,  0.00782785,\n",
       "        -0.00413392, -0.01225714],\n",
       "       [ 0.        ,  0.        ,  0.        , ...,  0.00523633,\n",
       "        -0.0217204 , -0.01646867],\n",
       "       ...,\n",
       "       [ 0.0028642 ,  0.00782785,  0.00523633, ...,  0.        ,\n",
       "         0.        ,  0.        ],\n",
       "       [-0.00015542, -0.00413392, -0.0217204 , ...,  0.        ,\n",
       "         0.        ,  0.        ],\n",
       "       [-0.03342935, -0.01225714, -0.01646867, ...,  0.        ,\n",
       "         0.        ,  0.        ]])"
      ]
     },
     "execution_count": 11,
     "metadata": {},
     "output_type": "execute_result"
    }
   ],
   "source": [
    "J"
   ]
  },
  {
   "cell_type": "code",
   "execution_count": 13,
   "metadata": {},
   "outputs": [
    {
     "data": {
      "text/plain": [
       "(21, 21)"
      ]
     },
     "execution_count": 13,
     "metadata": {},
     "output_type": "execute_result"
    }
   ],
   "source": [
    "C[0][0].shape"
   ]
  },
  {
   "cell_type": "code",
   "execution_count": null,
   "metadata": {},
   "outputs": [],
   "source": []
  }
 ],
 "metadata": {
  "kernelspec": {
   "display_name": "Python 3",
   "language": "python",
   "name": "python3"
  },
  "language_info": {
   "codemirror_mode": {
    "name": "ipython",
    "version": 3
   },
   "file_extension": ".py",
   "mimetype": "text/x-python",
   "name": "python",
   "nbconvert_exporter": "python",
   "pygments_lexer": "ipython3",
   "version": "3.6.4"
  }
 },
 "nbformat": 4,
 "nbformat_minor": 2
}
