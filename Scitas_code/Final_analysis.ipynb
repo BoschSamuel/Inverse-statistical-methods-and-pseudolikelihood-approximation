{
 "cells": [
  {
   "cell_type": "code",
   "execution_count": 1,
   "metadata": {},
   "outputs": [],
   "source": [
    "import numpy as np\n",
    "import matplotlib.pyplot as plt\n",
    "from scipy.stats.stats import pearsonr"
   ]
  },
  {
   "cell_type": "code",
   "execution_count": 2,
   "metadata": {},
   "outputs": [],
   "source": [
    "# Reading the \"C.txt\" file\n",
    "with open('C_T_0.300000_counter_208854747.txt') as f:\n",
    "    C_file = []\n",
    "    for line in f: # read rest of lines\n",
    "        C_file.append(float(line))\n",
    "    max_spin = int(C_file[0])\n",
    "    N = int(C_file[1])\n",
    "    beta = float(C_file[2])\n",
    "    counter = int(C_file[3])\n",
    "    relaxation_time = float(C_file[4])\n",
    "    #max_number_of_interations = int(C_file[5]) #remove this for older files\n",
    "    del C_file[0]\n",
    "    del C_file[0]\n",
    "    del C_file[0]\n",
    "    del C_file[0]\n",
    "    del C_file[0]\n",
    "    #del C_file[0] #remove this for older files"
   ]
  },
  {
   "cell_type": "code",
   "execution_count": 3,
   "metadata": {},
   "outputs": [],
   "source": [
    "if (len(C_file) != N**2*(max_spin+1)**2):\n",
    "    print('C.txt size error')"
   ]
  },
  {
   "cell_type": "code",
   "execution_count": 4,
   "metadata": {},
   "outputs": [],
   "source": [
    "C = np.zeros((N,N,max_spin+1,max_spin+1))\n",
    "C_reduced = np.zeros((N*max_spin,N*max_spin))\n",
    "k = 0\n",
    "for i in range(max_spin+1):\n",
    "    for j in range(max_spin+1):\n",
    "        for ii in range(N):\n",
    "            for jj in range(N):\n",
    "                C[ii][jj][i][j] = C_file[k]\n",
    "                k += 1"
   ]
  },
  {
   "cell_type": "code",
   "execution_count": 5,
   "metadata": {},
   "outputs": [],
   "source": [
    "for i in range(max_spin):\n",
    "    for j in range(max_spin):\n",
    "        for ii in range(N):\n",
    "            for jj in range(N):\n",
    "                C_reduced[(max_spin)*ii+i][(max_spin)*jj+j] = C[ii][jj][i][j]"
   ]
  },
  {
   "cell_type": "code",
   "execution_count": 6,
   "metadata": {},
   "outputs": [],
   "source": [
    "g = open('J.txt' , 'r')\n",
    "J = np.array([[float(num) for num in line.split(' ')] for line in g ])"
   ]
  },
  {
   "cell_type": "code",
   "execution_count": 7,
   "metadata": {},
   "outputs": [
    {
     "data": {
      "text/plain": [
       "(525, 525)"
      ]
     },
     "execution_count": 7,
     "metadata": {},
     "output_type": "execute_result"
    }
   ],
   "source": [
    "maximum_J = np.max(J)\n",
    "minimum_J = np.min(J)\n",
    "C_reduced_inv = np.linalg.inv(C_reduced)\n",
    "J_derived = np.zeros((N*(max_spin+1),N*(max_spin+1)))\n",
    "for i in range(max_spin):\n",
    "    for j in range(max_spin):\n",
    "        for ii in range(N):\n",
    "            for jj in range(N):\n",
    "                J_derived[(max_spin+1)*ii+i][(max_spin+1)*jj+j]=C_reduced_inv[(max_spin)*ii+i][(max_spin)*jj+j]\n",
    "                if (J_derived[(max_spin+1)*ii+i][(max_spin+1)*jj+j]>1.05*maximum_J):\n",
    "                    J_derived[(max_spin+1)*ii+i][(max_spin+1)*jj+j]=0\n",
    "                if (J_derived[(max_spin+1)*ii+i][(max_spin+1)*jj+j]<1.05*minimum_J):\n",
    "                    J_derived[(max_spin+1)*ii+i][(max_spin+1)*jj+j]=0\n",
    "                if ii==jj:\n",
    "                    J_derived[(max_spin+1)*ii+i][(max_spin+1)*jj+j]=0\n",
    "\n",
    "J_derived.shape"
   ]
  },
  {
   "cell_type": "code",
   "execution_count": 8,
   "metadata": {},
   "outputs": [
    {
     "data": {
      "text/plain": [
       "(525, 525)"
      ]
     },
     "execution_count": 8,
     "metadata": {},
     "output_type": "execute_result"
    }
   ],
   "source": [
    "J_derived.shape"
   ]
  },
  {
   "cell_type": "code",
   "execution_count": 9,
   "metadata": {
    "scrolled": true
   },
   "outputs": [
    {
     "data": {
      "text/plain": [
       "(525, 525)"
      ]
     },
     "execution_count": 9,
     "metadata": {},
     "output_type": "execute_result"
    }
   ],
   "source": [
    "J.shape"
   ]
  },
  {
   "cell_type": "code",
   "execution_count": 10,
   "metadata": {},
   "outputs": [],
   "source": [
    "#for i in range(N*(max_spin+1)):\n",
    "#    for j in range(N*(max_spin+1)):\n",
    "#        print(J[i][j],\"  \" , J_derived[i][j], \"  \",J[i][j]/J_derived[i][j] )"
   ]
  },
  {
   "cell_type": "code",
   "execution_count": 11,
   "metadata": {},
   "outputs": [
    {
     "data": {
      "text/plain": [
       "(0.4058649850546855, 0.0)"
      ]
     },
     "execution_count": 11,
     "metadata": {},
     "output_type": "execute_result"
    }
   ],
   "source": [
    "pearsonr(np.ndarray.flatten(J),np.ndarray.flatten(J_derived))"
   ]
  },
  {
   "cell_type": "code",
   "execution_count": 12,
   "metadata": {},
   "outputs": [
    {
     "data": {
      "text/plain": [
       "array([[ 0.        ,  0.        ,  0.        , ...,  0.11932779,\n",
       "         0.10888318,  0.        ],\n",
       "       [ 0.        ,  0.        ,  0.        , ...,  0.06174222,\n",
       "         0.02068327,  0.        ],\n",
       "       [ 0.        ,  0.        ,  0.        , ...,  0.06675163,\n",
       "        -0.02551414,  0.        ],\n",
       "       ...,\n",
       "       [ 0.11932779,  0.06174222,  0.06675163, ...,  0.        ,\n",
       "         0.        ,  0.        ],\n",
       "       [ 0.10888318,  0.02068327, -0.02551414, ...,  0.        ,\n",
       "         0.        ,  0.        ],\n",
       "       [ 0.        ,  0.        ,  0.        , ...,  0.        ,\n",
       "         0.        ,  0.        ]])"
      ]
     },
     "execution_count": 12,
     "metadata": {},
     "output_type": "execute_result"
    }
   ],
   "source": [
    "J_derived"
   ]
  },
  {
   "cell_type": "code",
   "execution_count": 13,
   "metadata": {},
   "outputs": [
    {
     "data": {
      "text/plain": [
       "array([[ 0.        ,  0.        ,  0.        , ...,  0.0028642 ,\n",
       "        -0.00015542, -0.03342935],\n",
       "       [ 0.        ,  0.        ,  0.        , ...,  0.00782785,\n",
       "        -0.00413392, -0.01225714],\n",
       "       [ 0.        ,  0.        ,  0.        , ...,  0.00523633,\n",
       "        -0.0217204 , -0.01646867],\n",
       "       ...,\n",
       "       [ 0.0028642 ,  0.00782785,  0.00523633, ...,  0.        ,\n",
       "         0.        ,  0.        ],\n",
       "       [-0.00015542, -0.00413392, -0.0217204 , ...,  0.        ,\n",
       "         0.        ,  0.        ],\n",
       "       [-0.03342935, -0.01225714, -0.01646867, ...,  0.        ,\n",
       "         0.        ,  0.        ]])"
      ]
     },
     "execution_count": 13,
     "metadata": {},
     "output_type": "execute_result"
    }
   ],
   "source": [
    "J"
   ]
  },
  {
   "cell_type": "code",
   "execution_count": null,
   "metadata": {},
   "outputs": [],
   "source": []
  }
 ],
 "metadata": {
  "kernelspec": {
   "display_name": "Python 3",
   "language": "python",
   "name": "python3"
  },
  "language_info": {
   "codemirror_mode": {
    "name": "ipython",
    "version": 3
   },
   "file_extension": ".py",
   "mimetype": "text/x-python",
   "name": "python",
   "nbconvert_exporter": "python",
   "pygments_lexer": "ipython3",
   "version": "3.6.4"
  }
 },
 "nbformat": 4,
 "nbformat_minor": 2
}
